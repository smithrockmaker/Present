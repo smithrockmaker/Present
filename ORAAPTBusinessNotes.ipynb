{
 "cells": [
  {
   "cell_type": "markdown",
   "metadata": {},
   "source": [
    "### ORAPPT Notes\n",
    "**March 13 2021**\n",
    "(Bruce as ad hoc notetaker)\n",
    "\n",
    "KC Administering:\n",
    "\n",
    "We affirmed the classic ORAAPT process of VP ascending to President as President moves on to Pres Emeritus. We need to find a new VP to be president in training.\n",
    "\n",
    "Need AAPT Rep -- Wendi Wampler had been interested but has not made contact. Position is currently consider open/available\n",
    "\n",
    "Tentative Fall meeting plan for UP and we will reassess in August. \n",
    "\n",
    "General sense to not create competing virtual events going forward. General sense is hybird model has been good for remote engagement but there is a desire to also have a IRL (f2f) layer to the meeting!\n",
    "\n",
    "Leif would like to have a real logo design for ORAAPT to help support merch and branding. Paul and Tamar suggest engaging students in a design competition/project and choosing from submission.\n",
    "\n",
    "Other positions open: \n",
    "\n",
    "1. New Vice President\n",
    "1. AAPT Section Rep\n",
    "1. New Secretary (Fran needs to move on)\n",
    "1. K-12 Rep\n",
    "1. 4 yr College Rep\n",
    "\n",
    "Creating committee to study the section rep issues -- what do we want and what do we need. \n",
    "\n",
    "Tamar -- standing in for VP with understanding that we will reassess in August based on her life. (unanimous!)\n",
    "\n",
    "Leif -- for Secretary based on some existing experience and willingness to serve. (unanimous!)\n",
    "\n",
    "Toby could use the funds to support his going to AAPT summer meetings and is involved. As CC faculty he's been paying out of pocket to go. (I lost track of whether we voted on this)\n",
    "\n",
    "Bruce will organize a work group (Greg, Paul, Leif, Fran, KC etc) to review the ORAAPT Constitution and recommend clarifications or fixes for the fall meeting.\n",
    "\n",
    "Greg is the official historian in case anyone is curious.\n",
    "\n",
    "\n"
   ]
  },
  {
   "cell_type": "code",
   "execution_count": null,
   "metadata": {},
   "outputs": [],
   "source": []
  }
 ],
 "metadata": {
  "kernelspec": {
   "display_name": "Python 3",
   "language": "python",
   "name": "python3"
  },
  "language_info": {
   "codemirror_mode": {
    "name": "ipython",
    "version": 3
   },
   "file_extension": ".py",
   "mimetype": "text/x-python",
   "name": "python",
   "nbconvert_exporter": "python",
   "pygments_lexer": "ipython3",
   "version": "3.8.5"
  }
 },
 "nbformat": 4,
 "nbformat_minor": 4
}
