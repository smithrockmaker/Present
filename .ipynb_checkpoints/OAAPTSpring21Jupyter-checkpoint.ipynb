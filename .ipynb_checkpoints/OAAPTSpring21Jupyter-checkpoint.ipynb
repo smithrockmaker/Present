{
 "cells": [
  {
   "cell_type": "markdown",
   "metadata": {},
   "source": [
    "## Jupyter Notebooks in Physics\n",
    "\n",
    "### Presented March 13 2021 for ORAAPT\n",
    "\n",
    "**Abstract:** I have been integrating python notebooks into my calc physics sequence over the last 2 years. They offer a range of curricular opportunities with relatively low lift for the instructor and students. In this presentation I will share some representative experiences as well as access to my public github where you can access everything I have done."
   ]
  },
  {
   "cell_type": "markdown",
   "metadata": {},
   "source": [
    "### Disclaimer!\n",
    "\n",
    "Like many physicists I am a self taught (of necessity) coder so I wish to be clear that I am likely to say foolish things about coding. My focus here is a quick intro to value I have found using python notebooks in my physics and engineering courses. If I express something in a way which conflicts with your understanding of a python tool please ask and we'll all learn something."
   ]
  },
  {
   "cell_type": "markdown",
   "metadata": {},
   "source": [
    "### The Plan\n",
    "\n",
    "#### Software\n",
    "\n",
    "Anaconda and Jupyterlab\n",
    "github \n",
    "\n",
    "#### Examples\n",
    "\n",
    "1. Example: Class Notes: [ENGR212Lec13](https://github.com/smithrockmaker/ENGR212/blob/main/ENGR212Lec13.ipynb)\n",
    "1. Example: Lab Tools: [Rock Drop Lab](https://github.com/smithrockmaker/PH211/blob/master/RockDropLab21.ipynb)\n",
    "1. Example: Conceptual Tools: [Energy Bar Graphs](https://github.com/smithrockmaker/PH211/blob/master/EnergyBarGraph2.ipynb)\n",
    "1. Example: Homework Practice: [E Field Quadrupole](https://github.com/smithrockmaker/PH212-HW/blob/master/EFieldQuad.ipynb)\n",
    "\n",
    "####  Discussion\n",
    "\n",
    "Questions/Discussion\n",
    "\n",
    "#### Access This Material\n",
    "\n",
    "[Public Github for this presentation](https://github.com/smithrockmaker/Present) Search 'smithrockmaker github bruce' and it should pop up.  \n",
    "[Public Github for all of Bruce's python notebooks](https://github.com/smithrockmaker)  \n",
    "[Public Physics/Engineering Web: Labs and other materials](http://coccweb.cocc.edu/bemerson/PhysicsGlobal/PhysicsMain.html)\n",
    "\n",
    "email: bemerson@cocc.edu - delighted to zoom with anyone who has more questions in the future\n",
    "\n"
   ]
  },
  {
   "cell_type": "markdown",
   "metadata": {},
   "source": [
    "### Anaconda and Jupyterlab\n",
    "\n",
    "Python and Jupyterlab are open source projects that are becoming standard across many use cases. The discussion of why open source in general and python in particular is a whole separate discussion that I will not address here. \n",
    "\n",
    "In an academic setting getting these tools installed on the wide range of platforms that students access is a key need. After trying several options I have found that Anaconda is the most effective cross platform tool for installing all of the needed packages and applications. Instructions, hints, and troubleshooting are linked on the page below.\n",
    "\n",
    "[Anaconda/Jupyterlab Installation](http://coccweb.cocc.edu/bemerson/PhysicsGlobal/Courses/PH211/PH211Learning/PH211Software/PH211Softpage.html)\n",
    "\n",
    "### Github\n",
    "\n",
    "For many science and engineering professionals git and github are tools that they will need to have some basic understanding of. Learning about these tools is an outcome in the new engineering orientation courses at OSU. While you may never make mistakes I make them all the time and constantly need to update the tools I am developing for my classes.\n",
    "\n",
    "**Get thee a github account and a tool for updating it!**"
   ]
  },
  {
   "cell_type": "markdown",
   "metadata": {},
   "source": [
    "#### Presentation Notes:\n",
    "\n",
    "**Class Notes**  \n",
    "relatively easy to render serious mathematical discussions\n",
    "I haven't had a lot of need yet to embed code - more an easy LaTeX tool\n",
    "\n",
    "**Lab Tools**\n",
    "lots of data explorations that are relatively easy in python\n",
    "current model is to provide the code and focus on using the code\n",
    "allows richer explorations than have been possible in the past.\n",
    "\n",
    "**Conceptual Tools**\n",
    "yes, its easier to just draw it on a whiteboard!\n",
    "..on the other hand it's been nice to develop interactive version\n",
    "student work has been very gratifying\n",
    "\n",
    "**Homework Practive**\n",
    "Sometimes it feels like students just need to practice with numbers\n",
    "randomly generate problems with new values\n",
    "auto check answers - needs problems that have closed form solutions\n"
   ]
  },
  {
   "cell_type": "code",
   "execution_count": null,
   "metadata": {},
   "outputs": [],
   "source": []
  }
 ],
 "metadata": {
  "kernelspec": {
   "display_name": "Python 3",
   "language": "python",
   "name": "python3"
  },
  "language_info": {
   "codemirror_mode": {
    "name": "ipython",
    "version": 3
   },
   "file_extension": ".py",
   "mimetype": "text/x-python",
   "name": "python",
   "nbconvert_exporter": "python",
   "pygments_lexer": "ipython3",
   "version": "3.8.5"
  }
 },
 "nbformat": 4,
 "nbformat_minor": 4
}
